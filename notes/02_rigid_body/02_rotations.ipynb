{
 "cells": [
  {
   "cell_type": "markdown",
   "metadata": {},
   "source": [
    "# Rotations and Time Evolution"
   ]
  },
  {
   "cell_type": "markdown",
   "metadata": {},
   "source": [
    "## Rotating coordinates\n",
    "\n",
    "Lets begin by remembering we can propose two basis for the frame $e$ and $e'$ and write any vector $\\vec{v}$ as a linear combination of the basis vectors:\n",
    "\n",
    "$$v = \\sum v_i e_i = \\sum v'_i e'_i$$\n",
    "\n",
    "where $v_i$ and $v'_i$ are the components of $\\vec{v}$ in the basis $e$ and $e'$ respectively.\n",
    "Now, if we label $e$ as the basis of the fixed frame and $e'$ as the basis of the rotating frame, we can relate both basis by a rotation:\n",
    "\n",
    "$$\\dot e' = \\omega \\times e'$$\n",
    "\n",
    "where $\\omega$ is the angular velocity of the rotating frame with respect to the fixed frame. This equation is the same as the one we used to relate the velocity of a point in a rotating frame with respect to the fixed frame. \n",
    "\n",
    "\n",
    "Now, the arbitrary vector $\\vec{v}$ can be written in terms of the basis $e'$ as:\n",
    "\n",
    "$$\\dot v = \\sum \\dot v_i e_i = \\sum \\dot (v'_i e'_i )$$\n",
    "\n",
    "where we have used the fact that the basis $e'$ is rotating with respect to the fixed frame. As a generalized result:\n",
    "\n",
    "$$\\dot v =\\frac{d_R}{dt} \\vec v + \\omega \\times \\vec v$$\n",
    "\n",
    "where $\\frac{d_R}{dt}$ is the rate of change of the vector $\\vec v$ in the rotating frame. This equation is known as the **transport theorem**. \n",
    "\n",
    "We can use further derivatives to obtain the acceleration of the vector $\\vec v$ in the rotating frame:\n",
    "\n",
    "$$\\ddot v =\\frac{d_R^2}{dt^2} \\vec v + \\underbrace{2 \\omega \\times \\frac{d_R}{dt} \\vec v}_\\text{Centrifugal} + \\underbrace{\\dot \\omega \\times \\vec v}_\\text{Coriollis} + \\omega \\times ( \\omega \\times \\vec v)$$\n",
    "\n",
    "where we have used the fact that $\\omega$ is constant in the rotating frame.\n",
    "\n"
   ]
  },
  {
   "cell_type": "markdown",
   "metadata": {},
   "source": []
  }
 ],
 "metadata": {
  "language_info": {
   "name": "python"
  },
  "orig_nbformat": 4
 },
 "nbformat": 4,
 "nbformat_minor": 2
}
