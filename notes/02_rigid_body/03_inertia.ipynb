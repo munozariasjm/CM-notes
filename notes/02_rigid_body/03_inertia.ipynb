{
 "cells": [
  {
   "cell_type": "markdown",
   "metadata": {},
   "source": [
    "# Rotational Energy and Inertia"
   ]
  },
  {
   "cell_type": "markdown",
   "metadata": {},
   "source": [
    "## Rotational Energy\n",
    "\n",
    "The kinetic energy of a rigid body is given by the speed of the center of mass and the angular velocity of all the particles in the body. Therefore the rotation adds a factor given by:\n",
    "\n",
    "$$T_{rot} = \\frac{1}{2} \\sum_{i=1}^{N} m_i (\\omega \\times r_i)^2 = \\frac{1}{2} \\sum_{i=1}^{N} m_i \\left( \\omega^2 r_i^2 - (\\omega \\cdot r_i)^2 \\right)$$\n",
    "\n",
    "Labeling Cartesian indices with $a$ and $b$ to reserve $i$ and $j$ for particle indices, then we can write out this result making the indicies all explict as:\n",
    "\n",
    "$$T_{rot} = \\frac{1}{2} \\sum_{i, a, b} m_i \\left(\\delta_{ab}r_i^2 - r_i^a r_i^b \\right) \\omega^a \\omega^b$$\n",
    "\n",
    "Note now that the term in the parenthesis is the dependent on the body's inertia tensor $I_{ab}$, which is defined as:\n",
    "\n",
    "$$I_{ab} = \\sum_{i} m_i \\left(\\delta_{ab}r_i^2 - r_i^a r_i^b \\right) \\quad \\underbrace{\\rightarrow}_{N \\approx \\infty}\\quad  \\int \\rho \\left(\\delta_{ab}r^2 - r^a r^b \\right) dV$$\n",
    "\n",
    "where $\\rho$ is the density of the body. The inertia tensor is a very straight way of computing the kinetic energy:\n",
    "\n",
    "$$T_{rot} = \\frac{1}{2} \\sum_{a, b} I_{ab} \\omega^a \\omega^b = \\frac{1}{2} \\vec \\omega \\cdot I \\cdot \\vec \\omega.$$\n",
    "\n",
    "Notably, the classical case is recovered from this framework at $\\vec\\omega = \\omega \\hat k$."
   ]
  },
  {
   "cell_type": "markdown",
   "metadata": {},
   "source": [
    "## Angular momentum\n",
    "\n",
    "The angular momentum of a rigid body can be calculated from any point in the rigid body. The angular momentum is defined as:\n",
    "\n",
    "$$\\vec L = m_i r_i \\times v_i = m_i(r_i^2\\omega - (r_i\\cdot\\omega)r_i) = I\\omega$$\n",
    "\n",
    "where $m_i$ is the mass of the $i$ th particle, $r_i$ is the position of the $i$th particle relative to the point of interest, and $v_i$ is the velocity of the $i$th particle, and summation over $i$ is implied.\n",
    "\n",
    "We know there is a way of diagonalizing the inertia tensor, so we can write:\n",
    "\n",
    "$$I' = U I U^T$$\n",
    "\n",
    "where $U$ is a rotation matrix, and $U$ will exist for any rigid body, which makes the diagonalization of the inertia tensor possible.  We can write the angular momentum in terms of the diagonalized inertia tensor:\n",
    "\n",
    "$$I = \\begin{bmatrix} I_1 & 0 & 0 \\\\ 0 & I_2 & 0 \\\\ 0 & 0 & I_3 \\end{bmatrix}$$\n",
    "\n",
    "Those are called the **principal moments of inertia**.  \n",
    "\n",
    "The procedure to find them is quite simple.  Start by computing the eigen values:\n",
    "\n",
    "$$\\det(I - \\lambda I) = 0$$\n",
    "\n",
    "The three eigenvalues will be associated to the three principal moments of inertia.  The eigenvectors associated to each eigenvalue will be the principal axes of rotation.  \n",
    "\n",
    "With those computed, we can write a bunch of useful equations:\n",
    "\n",
    "$$L_\\alpha = I_\\alpha \\omega_\\alpha, \\quad T = \\frac{1}{2}\\sum_\\alpha I_\\alpha \\omega_\\alpha^2$$\n",
    "\n",
    "where $\\alpha$ is a label for the principal axes of rotation.  The angular momentum is parallel to the angular velocity, and the kinetic energy is the sum of the kinetic energy of rotation about each principal axis of rotation."
   ]
  },
  {
   "cell_type": "markdown",
   "metadata": {},
   "source": []
  }
 ],
 "metadata": {
  "language_info": {
   "name": "python"
  },
  "orig_nbformat": 4
 },
 "nbformat": 4,
 "nbformat_minor": 2
}
