{
 "cells": [
  {
   "cell_type": "markdown",
   "metadata": {},
   "source": [
    "# Coordinates inside rigid bodies"
   ]
  },
  {
   "cell_type": "markdown",
   "metadata": {},
   "source": [
    "A rigid body can be simply defined as a set of particles that conserve distances between them. But the total number of particles in a rigid body is considered as infinite.\n",
    "\n",
    "To deal with this, we introduce the center of mass (CM) as the average position of all the particles in the rigid body. The CM is defined as:\n",
    "\n",
    "$$\n",
    "\\vec{r}_{CM} = \\frac{1}{M}\\sum_{i=1}^{N}m_i\\vec{r}_i\n",
    "$$\n",
    "\n",
    "And in the continuous limit:\n",
    "\n",
    "$$\n",
    "\\vec{r}_{CM} = \\frac{1}{M}\\int_V\\rho(\\vec{r})\\vec{r}dV\n",
    "$$\n",
    "\n",
    "Note that we will have to introduce some coordinates to describe the position of the rigid body. We will use the CM as the origin of our coordinate system, and we will use the Euler angles to describe the orientation of the rigid body, as shown in the figure below.\n",
    "\n",
    "The first angle to be rotated corresponds to the $z$ axis, and it is called $\\phi$. The second angle to be rotated corresponds to the $y'$ axis, and it is called $\\theta$. The third angle to be rotated corresponds to the $z''$ axis, and it is called $\\psi$."
   ]
  },
  {
   "cell_type": "markdown",
   "metadata": {},
   "source": [
    "![animation](../../assets/02/Euler2a.gif)"
   ]
  },
  {
   "cell_type": "markdown",
   "metadata": {},
   "source": [
    "Within this framework, one can describe a rotation as an unitary matrix multiplication: \n",
    "\n",
    "$$\\tilde r = U r$$\n",
    "\n",
    "where U is given by the product of three matrices:\n",
    "\n",
    "$$\n",
    "U = \\underbrace{\\begin{pmatrix}\n",
    "\\cos \\psi & \\sin \\psi & 0 \\\\\n",
    "-\\sin \\psi & \\cos \\psi & 0 \\\\\n",
    "0 & 0 & 1\n",
    "\\end{pmatrix}}_{U_\\psi} \\cdot \\underbrace{\\begin{pmatrix}\n",
    "1& 0 & 0 \\\\\n",
    "0& \\cos \\theta & \\sin \\theta \\\\\n",
    "0& -\\sin \\theta & \\cos \\theta \n",
    "\\end{pmatrix}}_{U_\\theta} \\cdot \\underbrace{\\begin{pmatrix}\n",
    "\\cos \\phi & \\sin \\phi & 0 \\\\\n",
    "-\\sin \\phi & \\cos \\phi & 0 \\\\\n",
    "0 & 0 & 1\n",
    "\\end{pmatrix}}_{U_\\phi}\n",
    "$$\n",
    "\n",
    "The fact that we stay in the $SO(3)$ group is ensured by Euler's Theorem, which states that a rotation can be described by a single rotation around a fixed axis. In our case, the parametrized rotation around the $z$ axis is followed by a rotation around the $y$ axis, which is followed by a rotation around the $x$ axis.\n",
    "\n",
    "The fixed axis is the one of the inertial frame which can be found by searching the eigenvector of the rotation matrix with eigenvalue 1. \n",
    "\n",
    "$$ U \\cdot \\begin{pmatrix} x \\\\ y \\\\ z \\end{pmatrix} = \\begin{pmatrix} x \\\\ y \\\\ z \\end{pmatrix}$$"
   ]
  }
 ],
 "metadata": {
  "kernelspec": {
   "display_name": "Julia 1.8.0",
   "language": "julia",
   "name": "julia-1.8"
  },
  "language_info": {
   "file_extension": ".jl",
   "mimetype": "application/julia",
   "name": "julia",
   "version": "1.8.0"
  },
  "orig_nbformat": 4
 },
 "nbformat": 4,
 "nbformat_minor": 2
}
