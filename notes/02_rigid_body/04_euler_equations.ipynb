{
 "cells": [
  {
   "cell_type": "markdown",
   "metadata": {},
   "source": [
    "# Euler Equations"
   ]
  },
  {
   "cell_type": "markdown",
   "metadata": {},
   "source": [
    "The main idea now is to use the body axis to describe how bodies rotate around any fixed point. This is done by using the Euler equations. Given the definition, we can write the torque as:\n",
    "\n",
    "$$\\vec{\\tau} = \\frac{d_R\\vec{L}}{dt} + \\vec{\\omega} \\times \\vec{L}$$\n",
    "\n",
    "where $\\vec{L}$ is the angular momentum of the body. From this, we get Euler's equations:\n",
    "\n",
    "$$\\begin{align}\n",
    "I_1 \\dot{\\omega}_1 - (I_2 - I_3)\\omega_2 \\omega_3 &= \\tau_1 \\\\\n",
    "I_2 \\dot{\\omega}_2 - (I_3 - I_1)\\omega_3 \\omega_1 &= \\tau_2 \\\\\n",
    "I_3 \\dot{\\omega}_3 - (I_1 - I_2)\\omega_1 \\omega_2 &= \\tau_3\n",
    "\\end{align}$$\n",
    "\n",
    "The problem here is (rather than solving the system), to go back to the body axis. This is done by using Euler's angles:\n",
    "\n",
    "$$\\begin{align}\n",
    "\\omega_1 &= \\dot{\\phi} \\sin \\theta \\sin \\psi + \\dot{\\theta} \\cos \\psi \\\\\n",
    "\\omega_2 &= \\dot{\\phi} \\sin \\theta \\cos \\psi - \\dot{\\theta} \\sin \\psi \\\\\n",
    "\\omega_3 &= \\dot{\\phi} \\cos \\theta + \\dot{\\psi}\n",
    "\\end{align}$$\n",
    "\n",
    "where $\\phi$ is the precession angle, $\\theta$ is the nutation angle, and $\\psi$ is the spin angle."
   ]
  }
 ],
 "metadata": {
  "language_info": {
   "name": "python"
  },
  "orig_nbformat": 4
 },
 "nbformat": 4,
 "nbformat_minor": 2
}
