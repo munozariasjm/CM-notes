{
 "cells": [
  {
   "cell_type": "markdown",
   "metadata": {},
   "source": [
    "<center>\n",
    "<h1>Symmetry and Conservation Laws</h1>\n",
    "</center>"
   ]
  },
  {
   "cell_type": "markdown",
   "metadata": {},
   "source": [
    "We base the entire study of symmetries based on cyclic coordinates:  \n",
    "A coordinate $q_j$ absent from the Lagrangian (or Hamiltonian); and that implies a symmetry and conservation law. \n",
    "This is the base of Noether's theorem. A cyclic coordinate leads to a conserved canonical momentum $p_j$.\n",
    "\n",
    "Important examples:\n",
    "\n",
    "- Translational invariance → conservation of linear momentum\n",
    "- Rotational invariance → conservation of angular momentum\n",
    "- Time invariance → conservation of energy"
   ]
  },
  {
   "cell_type": "markdown",
   "metadata": {},
   "source": [
    "\n",
    "\n",
    "### Noether's Theorem\n",
    "\n",
    "Every differentiable (i.e continous) symmetry of the action of a physical system has a corresponding conservation law.\n",
    "\n",
    "Given a Lagrangian system with Lagrangian $\\mathcal{L}$, suppose that a continuous transformation parameterized by $\\epsilon$ takes $q \\rightarrow q + \\delta q$ such that the Lagrangian changes by a total derivative:\n",
    "\n",
    "$$\\mathcal{L}(q, \\dot{q}, t) \\rightarrow \\mathcal{L}(q, \\dot{q}, t) + \\frac{dF}{dt}$$\n",
    "\n",
    "Then the quantity:\n",
    "\n",
    "$$\\mathcal{Q} = \\frac{\\partial \\mathcal{L}}{\\partial \\dot{q}} \\delta q - F$$\n",
    "\n",
    "is conserved, i.e., $\\frac{d\\mathcal{Q}}{dt} = 0$.\n",
    "\n",
    "Lets consider with a bit of further detail some of the cases:\n",
    "\n",
    "#### Translational Invariance\n",
    "\n",
    "Lets consider two particles with masses $m_1$ and $m_2$ and positions $\\vec{r}_1$ and $\\vec{r}_2$. The Lagrangian is:\n",
    "\n",
    "$$ L = \\frac{1}{2} m_1 \\dot{\\vec{r}}_1^2 + \\frac{1}{2} m_2 \\dot{\\vec{r}}_2^2 - U(|\\vec{r}_1 - \\vec{r}_2|) $$\n",
    "\n",
    "Lets now displace the system by a vector $\\vec{a}$, so that the new positions are $\\vec{r}_1 + \\vec{a}$ and $\\vec{r}_2 + \\vec{a}$. The Lagrangian is still the same (the potential is a function of the distance between the particles, which is not affected by the displacement), and the kinetic energy is dependent only on the derivatives of the positions, which are not affected by the displacement either. Therefore, the Lagrangian is invariant.\n",
    "\n",
    "Now lets consider the infinitesimal case, where $\\vec{\\epsilon}$. The new Lagraingian is:\n",
    "\n",
    "$$ L' = \\frac{1}{2} m_1 (\\dot{\\vec{r}}_1 +  \\dot{\\vec{\\epsilon}})^2 + \\frac{1}{2} m_2 (\\dot{\\vec{r}}_2 +  \\dot{\\vec{\\epsilon}})^2 - U(|\\vec{r}_1 + \\vec{\\epsilon} - \\vec{r}_2 - \\vec{\\epsilon}|) $$\n",
    "\n",
    "$$ = \\frac{1}{2} m_1 \\dot{\\vec{r}}_1^2 + \\frac{1}{2} m_2 \\dot{\\vec{r}}_2^2 + m_1 \\dot{\\vec{r}}_1 \\dot{\\vec{\\epsilon}} + m_2 \\dot{\\vec{r}}_2 \\dot{\\vec{\\epsilon}} + \\underbrace{\\frac{1}{2} m_1 \\dot{\\vec{\\epsilon}}^2 + \\frac{1}{2} m_2 \\dot{\\vec{\\epsilon}}^2}_{\\approx 0} - U(|\\vec{r}_1 - \\vec{r}_2|) $$\n",
    "\n",
    "\n",
    "$$ = L + \\left(m_1\\dot{\\vec{r}}_1 \\dot{\\vec{\\epsilon}} + m_2 \\dot{\\vec{r}}_2 \\dot{\\vec{\\epsilon}}\\right) $$\n",
    "\n",
    "So we just found that the Lagrangian changes by a total derivative, with:\n",
    "\n",
    "$$\\frac{dF}{dt} = m_1\\dot{\\vec{r}}_1 \\dot{\\vec{\\epsilon}} + m_2 \\dot{\\vec{r}}_2 \\dot{\\vec{\\epsilon}} \\Rightarrow F = \\int_t \\left(m_1\\dot{\\vec{r}}_1 \\dot{\\vec{\\epsilon}} + m_2 \\dot{\\vec{r}}_2 \\dot{\\vec{\\epsilon}}\\right) dt\n",
    "$$\n",
    "So integrating by parts:\n",
    "$$ = (m_1\\dot{\\vec{r}}_1 + m_2 \\dot{\\vec{r}}_2) \\vec{\\epsilon} - \\int_t \\vec{\\epsilon} \\frac{d}{dt}(m_1\\dot{\\vec{r}}_1 + m_2 \\dot{\\vec{r}}_2) dt$$\n",
    "\n",
    "Now we are only left with finding $\\mathcal{Q}$ and showing that it is conserved. We have:\n",
    "\n",
    "$$\\mathcal{Q} = \\frac{\\partial \\mathcal{L}}{\\partial \\dot{\\vec{r}}_1} \\delta \\vec{r}_1 + \\frac{\\partial \\mathcal{L}}{\\partial \\dot{\\vec{r}}_2} \\delta \\vec{r}_2 - F$$\n",
    "\n",
    "Which simply kills the first two terms of the previous expression, and we are left with:\n",
    "\n",
    "$$\\mathcal{Q} = - \\int_t \\vec{\\epsilon} \\frac{d}{dt}(m_1\\dot{\\vec{r}}_1 + m_2 \\dot{\\vec{r}}_2) dt = m_1\\dot{\\vec{r}}_1 + m_2 \\dot{\\vec{r}}_2 = \\vec{p}_1 + \\vec{p}_2$$\n",
    "\n",
    "So we have found that the total momentum of the system is conserved, which is a well known result."
   ]
  },
  {
   "cell_type": "markdown",
   "metadata": {},
   "source": [
    "\n",
    "## Problems\n",
    "\n",
    "**Problem 3.1:** Show that the conservation of energy follows from the time translation symmetry of the Lagrangian.\n",
    "\n",
    "**Problem 3.2:** Show that the conservation of linear momentum follows from the spatial translation symmetry of the Lagrangian.\n",
    "\n",
    "**Problem 3.3:** Show that the conservation of angular momentum follows from the rotational symmetry of the Lagrangian.\n",
    "\n",
    "**Problem 3.4:** Consider a Lagrangian that is not invariant under time translations but is invariant under time reversal. What can be said about the corresponding conserved quantity?\n",
    "\n",
    "*Note*: To solve these problems, apply Noether's theorem, use the definitions of energy, linear momentum, and angular momentum, and recall that the Euler-Lagrange equation describes the dynamics of a system represented by a Lagrangian.\n"
   ]
  }
 ],
 "metadata": {
  "language_info": {
   "name": "python"
  },
  "orig_nbformat": 4
 },
 "nbformat": 4,
 "nbformat_minor": 2
}
