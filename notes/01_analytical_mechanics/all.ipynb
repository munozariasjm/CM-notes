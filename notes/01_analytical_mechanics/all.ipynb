{
 "cells": [
  {
   "cell_type": "markdown",
   "metadata": {},
   "source": [
    "<center>\n",
    "<h1>Analytical Mechanics</h1>\n",
    "</center>"
   ]
  },
  {
   "cell_type": "markdown",
   "metadata": {},
   "source": [
    "In this chapter, we will review key concepts from analytical mechanics, including Lagrangian and Hamiltonian formulations, constraints, friction, and variational principles."
   ]
  },
  {
   "cell_type": "markdown",
   "metadata": {},
   "source": [
    "## Lagrangian Mechanics\n",
    "\n",
    "Lagrangian mechanics provides an elegant framework for analyzing classical systems. The key object is the Lagrangian, defined as\n",
    "\n",
    "$$L = L(q,\\dot{q},t)$$\n",
    "\n",
    "where $q = (q_1,\\dots,q_N)$ are the generalized coordinates and $\\dot{q} = (\\dot{q}_1,\\dots,\\dot{q}_N)$ are their time derivatives. The Lagrangian is typically the difference between kinetic and potential energy:\n",
    "\n",
    "$$L = T - V$$\n",
    "\n",
    "Dynamics are governed by the Euler-Lagrange equations:\n",
    "\n",
    "$$\\frac{d}{dt}\\left(\\frac{\\partial L}{\\partial \\dot{q}_i}\\right) - \\frac{\\partial L}{\\partial q_i} = 0$$\n",
    "\n",
    "These second-order differential equations reproduce Newton's equations $F=ma$. But Lagrangian mechanics has several advantages such as:\n",
    "\n",
    "- Scalar quantities $T$ and $V$ are easier to work with than vector forces\n",
    "- Equations have the same form regardless of coordinate choices\n",
    "- Constraints are easily incorporated\n",
    "- To see the last point, consider a particle constrained to a surface $f(q_1,\\dots,q_N,t) = 0$. We can choose independent generalized coordinates $q_j, j=1,\\dots,N-k$ that satisfy the $k$ constraints. The Euler-Lagrange equations then provide the dynamics. Constraint forces never enter explicitly."
   ]
  },
  {
   "cell_type": "markdown",
   "metadata": {},
   "source": [
    "### The principle of least action\n",
    "\n",
    "The principle of least action states that the path a physical system takes between two points in its configuration space is the one that minimizes the action $S$, where the action is defined as the integral of the Lagrangian $L$ over time $t$.\n",
    "\n",
    "\n",
    "The action $S$ is then defined as:\n",
    "\n",
    "$$\n",
    "S = \\int L(q, \\dot{q}, t) dt\n",
    "$$\n",
    "\n",
    "We want to find the path $q(t)$ that minimizes $S$. This is a problem of calculus of variations. The solution can be found by requiring that the first variation of $S$ vanishes:\n",
    "\n",
    "$$\n",
    "\\delta S = 0\n",
    "$$\n",
    "\n",
    "This leads to the Euler-Lagrange equations. If we take the variation of $S$ we get:\n",
    "\n",
    "$$\n",
    "\\delta S = \\int \\left( \\frac{\\partial L}{\\partial q} \\delta q + \\frac{\\partial L}{\\partial \\dot{q}} \\delta \\dot{q} \\right) dt\n",
    "$$\n",
    "\n",
    "By integrating the second term by parts, we get:\n",
    "\n",
    "$$\n",
    "\\delta S = \\int \\left( \\frac{\\partial L}{\\partial q} - \\frac{d}{dt} \\left( \\frac{\\partial L}{\\partial \\dot{q}} \\right) \\right) \\delta q , dt + \\left[ \\delta q \\frac{\\partial L}{\\partial \\dot{q}} \\right]_{t_1}^{t_2}\n",
    "$$\n",
    "\n",
    "The second term vanishes if we assume that $\\delta q$ vanishes at the endpoints of the path (which is the usual assumption), so we get:\n",
    "\n",
    "$$\n",
    "\\delta S = \\int \\left( \\frac{\\partial L}{\\partial q} - \\frac{d}{dt} \\left( \\frac{\\partial L}{\\partial \\dot{q}} \\right) \\right) \\delta q , dt = 0\n",
    "$$\n",
    "\n",
    "Since this must hold for all variations $\\delta q$, we are led to the Euler-Lagrange equations:\n",
    "\n",
    "$$\n",
    "\\frac{\\partial L}{\\partial q} - \\frac{d}{dt} \\left( \\frac{\\partial L}{\\partial \\dot{q}} \\right) = 0\n",
    "$$"
   ]
  },
  {
   "cell_type": "markdown",
   "metadata": {},
   "source": [
    "## Hamiltonian Mechanics\n",
    "In Hamiltonian mechanics, the canonical momenta\n",
    "\n",
    "$$p_i = \\frac{\\partial L}{\\partial \\dot{q}_i}$$\n",
    "\n",
    "are put on equal footing with the generalized coordinates $q_i$. Together $(q,p)$ form the phase space description.\n",
    "\n",
    "The Hamiltonian is defined by the Legendre transform\n",
    "\n",
    "$$H(q,p,t) = \\dot{q}_i p_i - L(q,\\dot{q},t)$$\n",
    "\n",
    "Dynamics are governed by Hamilton's equations:\n",
    "\n",
    "$$\\dot{q}_i = \\frac{\\partial H}{\\partial p_i}, \\quad \\dot{p}_i = -\\frac{\\partial H}{\\partial q_i}$$\n",
    "\n",
    "Hamiltonian and Lagrangian approaches are equivalent, but each has advantages:\n",
    "\n",
    "Hamiltonians have beautiful phase space structure and Poisson bracket formalism\n",
    "Powerful transformation theory via generating functions\n",
    "More direct connection to quantum mechanics\n",
    "For simple cases where $T=\\frac{1}{2}\\dot{q}iT{ij}\\dot{q}_j$ and $V=V(q)$, the Hamiltonian equals the total energy $H=E=T+V$."
   ]
  },
  {
   "cell_type": "markdown",
   "metadata": {},
   "source": [
    "## Symmetry and Conservation Laws\n",
    "\n",
    "We base the entire study of symmetries based on cyclic coordinates:  \n",
    "A coordinate $q_j$ absent from the Lagrangian (or Hamiltonian); and that implies a symmetry and conservation law. \n",
    "This is the base of Noether's theorem. A cyclic coordinate leads to a conserved canonical momentum $p_j$.\n",
    "\n",
    "Important examples:\n",
    "\n",
    "- Translational invariance → conservation of linear momentum\n",
    "- Rotational invariance → conservation of angular momentum\n",
    "- Time invariance → conservation of energy\n",
    "\n",
    "### Noether's Theorem\n",
    "\n",
    "For every continuous symmetry of the Lagrangian, there is a conserved quantity. Lets consider with a bit of further detail some of the cases:\n",
    "\n",
    "#### Translational Invariance\n",
    "\n",
    "Lets consider two particles with masses $m_1$ and $m_2$ and positions $\\vec{r}_1$ and $\\vec{r}_2$. The Lagrangian is:\n",
    "\n",
    "$$ L = \\frac{1}{2} m_1 \\dot{\\vec{r}}_1^2 + \\frac{1}{2} m_2 \\dot{\\vec{r}}_2^2 - U(|\\vec{r}_1 - \\vec{r}_2|) $$\n",
    "\n",
    "Lets now displace the system by a vector $\\vec{a}$, so that the new positions are $\\vec{r}_1 + \\vec{a}$ and $\\vec{r}_2 + \\vec{a}$. The Lagrangian is still the same (the potential is a function of the distance between the particles, which is not affected by the displacement), and the kinetic energy is dependent only on the derivatives of the positions, which are not affected by the displacement either. Therefore, the Lagrangian is invariant."
   ]
  },
  {
   "cell_type": "markdown",
   "metadata": {},
   "source": [
    "## Constraints and Friction\n",
    "Constraints can be holonomic (e.g. $f(q,t)=0$) or nonholonomic (e.g. $f(q,\\dot{q},t)=0$). Lagrangians easily incorporate holonomic constraints. The method of Lagrange multipliers generalizes the Euler-Lagrange equations to include constraint forces.\n",
    "\n",
    "Friction is an important non-conservative force. It can be derived from a dissipation function $F$:\n",
    "\n",
    "$$R_j = -\\frac{\\partial F}{\\partial \\dot{q}_j}$$\n",
    "\n",
    "where $R_j$ are generalized friction forces. This fits into Lagrangians as extra terms in the Euler-Lagrange equations."
   ]
  },
  {
   "cell_type": "markdown",
   "metadata": {},
   "source": [
    "## Variational Principles\n",
    "Hamilton's principle: Paths $q(t)$ extremize the action integral $S=\\int L,dt$. Gives the Euler-Lagrange equations.\n",
    "\n",
    "Hamilton's phase space principle: Paths $(q(t),p(t))$ extremize the integral $\\int (p_i\\dot{q}_i - H),dt$. Gives Hamilton's equations.\n",
    "\n",
    "d'Alembert's principle: Virtual displacements $\\delta q_i$ give $\\frac{d}{dt}(\\partial L/\\partial \\dot{q}_j) - \\partial L/\\partial q_j = Q_j$ where $Q_j$ are generalized forces. A differential version of Lagrangians.\n",
    "\n",
    "These variational principles, along with constraints via Lagrange multipliers, provide a powerful arsenal for tackling dynamics problems."
   ]
  }
 ],
 "metadata": {
  "kernelspec": {
   "display_name": "Julia 1.8.0",
   "language": "julia",
   "name": "julia-1.8"
  },
  "language_info": {
   "file_extension": ".jl",
   "mimetype": "application/julia",
   "name": "julia",
   "version": "1.8.0"
  },
  "orig_nbformat": 4
 },
 "nbformat": 4,
 "nbformat_minor": 2
}
