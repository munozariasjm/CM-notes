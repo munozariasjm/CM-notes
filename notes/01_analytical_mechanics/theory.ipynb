{
 "cells": [
  {
   "cell_type": "markdown",
   "metadata": {},
   "source": [
    "# Analytical Mechanics"
   ]
  },
  {
   "cell_type": "markdown",
   "metadata": {},
   "source": [
    "In this chapter, we will review key concepts from analytical mechanics, including Lagrangian and Hamiltonian formulations, constraints, friction, and variational principles."
   ]
  },
  {
   "cell_type": "markdown",
   "metadata": {},
   "source": [
    "## Lagrangian Mechanics\n",
    "\n",
    "Lagrangian mechanics provides an elegant framework for analyzing classical systems. The key object is the Lagrangian, defined as\n",
    "\n",
    "$$L = L(q,\\dot{q},t)$$\n",
    "\n",
    "where $q = (q_1,\\dots,q_N)$ are the generalized coordinates and $\\dot{q} = (\\dot{q}_1,\\dots,\\dot{q}_N)$ are their time derivatives. The Lagrangian is typically the difference between kinetic and potential energy:\n",
    "\n",
    "$$L = T - V$$\n",
    "\n",
    "Dynamics are governed by the Euler-Lagrange equations:\n",
    "\n",
    "$$\\frac{d}{dt}\\left(\\frac{\\partial L}{\\partial \\dot{q}_i}\\right) - \\frac{\\partial L}{\\partial q_i} = 0$$\n",
    "\n",
    "These second-order differential equations reproduce Newton's equations $F=ma$. But Lagrangian mechanics has several advantages such as:\n",
    "\n",
    "- Scalar quantities $T$ and $V$ are easier to work with than vector forces\n",
    "- Equations have the same form regardless of coordinate choices\n",
    "- Constraints are easily incorporated\n",
    "- To see the last point, consider a particle constrained to a surface $f(q_1,\\dots,q_N,t) = 0$. We can choose independent generalized coordinates $q_j, j=1,\\dots,N-k$ that satisfy the $k$ constraints. The Euler-Lagrange equations then provide the dynamics. Constraint forces never enter explicitly."
   ]
  },
  {
   "cell_type": "markdown",
   "metadata": {},
   "source": [
    "## Hamiltonian Mechanics\n",
    "In Hamiltonian mechanics, the canonical momenta\n",
    "\n",
    "$$p_i = \\frac{\\partial L}{\\partial \\dot{q}_i}$$\n",
    "\n",
    "are put on equal footing with the generalized coordinates $q_i$. Together $(q,p)$ form the phase space description.\n",
    "\n",
    "The Hamiltonian is defined by the Legendre transform\n",
    "\n",
    "$$H(q,p,t) = \\dot{q}_i p_i - L(q,\\dot{q},t)$$\n",
    "\n",
    "Dynamics are governed by Hamilton's equations:\n",
    "\n",
    "$$\\dot{q}_i = \\frac{\\partial H}{\\partial p_i}, \\quad \\dot{p}_i = -\\frac{\\partial H}{\\partial q_i}$$\n",
    "\n",
    "Hamiltonian and Lagrangian approaches are equivalent, but each has advantages:\n",
    "\n",
    "Hamiltonians have beautiful phase space structure and Poisson bracket formalism\n",
    "Powerful transformation theory via generating functions\n",
    "More direct connection to quantum mechanics\n",
    "For simple cases where $T=\\frac{1}{2}\\dot{q}iT{ij}\\dot{q}_j$ and $V=V(q)$, the Hamiltonian equals the total energy $H=E=T+V$."
   ]
  },
  {
   "cell_type": "markdown",
   "metadata": {},
   "source": [
    "## Symmetry and Conservation Laws\n",
    "A coordinate $q_j$ absent from the Lagrangian (or Hamiltonian) implies a symmetry and conservation law. This is Noether's theorem. A cyclic coordinate leads to a conserved canonical momentum $p_j$.\n",
    "\n",
    "Important examples:\n",
    "\n",
    "- Translational invariance → conservation of linear momentum\n",
    "- Rotational invariance → conservation of angular momentum\n",
    "- Time invariance → conservation of energy"
   ]
  },
  {
   "cell_type": "markdown",
   "metadata": {},
   "source": [
    "## Constraints and Friction\n",
    "Constraints can be holonomic (e.g. $f(q,t)=0$) or nonholonomic (e.g. $f(q,\\dot{q},t)=0$). Lagrangians easily incorporate holonomic constraints. The method of Lagrange multipliers generalizes the Euler-Lagrange equations to include constraint forces.\n",
    "\n",
    "Friction is an important non-conservative force. It can be derived from a dissipation function $F$:\n",
    "\n",
    "$$R_j = -\\frac{\\partial F}{\\partial \\dot{q}_j}$$\n",
    "\n",
    "where $R_j$ are generalized friction forces. This fits into Lagrangians as extra terms in the Euler-Lagrange equations."
   ]
  },
  {
   "cell_type": "markdown",
   "metadata": {},
   "source": [
    "## Variational Principles\n",
    "Hamilton's principle: Paths $q(t)$ extremize the action integral $S=\\int L,dt$. Gives the Euler-Lagrange equations.\n",
    "\n",
    "Hamilton's phase space principle: Paths $(q(t),p(t))$ extremize the integral $\\int (p_i\\dot{q}_i - H),dt$. Gives Hamilton's equations.\n",
    "\n",
    "d'Alembert's principle: Virtual displacements $\\delta q_i$ give $\\frac{d}{dt}(\\partial L/\\partial \\dot{q}_j) - \\partial L/\\partial q_j = Q_j$ where $Q_j$ are generalized forces. A differential version of Lagrangians.\n",
    "\n",
    "These variational principles, along with constraints via Lagrange multipliers, provide a powerful arsenal for tackling dynamics problems."
   ]
  }
 ],
 "metadata": {
  "kernelspec": {
   "display_name": "Julia 1.8.0",
   "language": "julia",
   "name": "julia-1.8"
  },
  "language_info": {
   "file_extension": ".jl",
   "mimetype": "application/julia",
   "name": "julia",
   "version": "1.8.0"
  },
  "orig_nbformat": 4
 },
 "nbformat": 4,
 "nbformat_minor": 2
}
