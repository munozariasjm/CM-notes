{
 "cells": [
  {
   "cell_type": "markdown",
   "metadata": {},
   "source": [
    "<center>\n",
    "<h1>Constraints and Forces</h1>\n",
    "</center>"
   ]
  },
  {
   "cell_type": "markdown",
   "metadata": {},
   "source": [
    "In classical mechanics, constraints are restrictions on the possible motion of a system. They may limit the possible paths that a system can take or restrict the velocities or accelerations that the system can experience. Frictional forces, on the other hand, are forces that resist the relative motion of two objects in contact. In this chapter, we shall delve into these topics and discuss their implications in the context of classical mechanics."
   ]
  },
  {
   "cell_type": "markdown",
   "metadata": {},
   "source": [
    "## Constraint\n",
    "\n",
    "Constraints can be broadly classified into two categories: holonomic and non-holonomic constraints.\n",
    "\n",
    "### Holonomic \n",
    "\n",
    "Holonomic constraints are those that can be expressed in terms of the coordinates and time alone. Formally, they can be written as\n",
    "\n",
    "$$\n",
    "f(q_1, q_2, ..., q_n, t) = 0\n",
    "$$\n",
    "\n",
    "where $q_i$ are the generalized coordinates of the system and $t$ is time. An example of a holonomic constraint is a particle moving on the surface of a sphere, where the constraint is given by $x^2 + y^2 + z^2 = R^2$.\n",
    "\n",
    "Therefore, the differential form is:\n",
    "\n",
    "$$\n",
    "df = \\sum_j \\frac{\\partial f}{\\partial q_j} dq_j + \\frac{\\partial f}{\\partial t} dt = 0\n",
    "$$\n",
    "\n",
    "### Non-Holonomic Constraints\n",
    "\n",
    "Non-holonomic constraints, on the other hand, cannot be expressed solely in terms of coordinates and time. These constraints usually involve velocities and can be written in differential form as\n",
    "\n",
    "$$\n",
    "f(q_1, q_2, ..., q_n, \\dot{q_1}, \\dot{q_2}, ..., \\dot{q_n}, t) = 0\n",
    "$$\n",
    "\n",
    "A classic example of a non-holonomic constraint is the no-slip condition for a rolling wheel, which can be written as $v - R\\omega = 0$. Another pretty classic one is a blob on a circle.\n",
    "\n",
    "## Virtual work\n",
    "\n",
    "We use to use D'Alembert's principle to find the EoM, we tend to use virtual work to find the constraints. If we have a force $Z$ coming from a constraint, we can write\n",
    "\n",
    "$$\n",
    "\\sum_i Z_i \\delta q_i = 0\n",
    "$$\n",
    "\n",
    "where $\\delta q_i$ is the virtual displacement. This is the virtual work done by the constraint forces is zero. Generalizing this to any forces $Q_i$ we have\n",
    "\n",
    "$$\n",
    "\\sum_j \\left(\\frac{d}{dt} \\frac{\\partial T}{\\partial \\dot{q}_j} - \\frac{\\partial T}{\\partial q_j} - Q_j\\right) \\delta q_j = 0\\\\\n",
    "\\therefore \\frac{d}{dt} \\frac{\\partial T}{\\partial \\dot{q}_j} - \\frac{\\partial T}{\\partial q_j} = Q_j\n",
    "$$\n",
    "\n",
    "where $T$ is the kinetic energy of the system. This is the principle of virtual work, and is even more general than the Euler-Lagrange equations.\n",
    "\n",
    "Notably to recover the E.L. equations, we can use the fact that conservative forces give:\n",
    "\n",
    "$$Q_j = -\\frac{\\partial V}{\\partial q_j}$$\n",
    "\n",
    "Also, we can use any non-conservative forces, such as friction, $R_j$:\n",
    "\n",
    "$$\\frac{d}{dt} = \\frac{\\partial L}{\\partial \\dot{q}_j} - \\frac{\\partial L}{\\partial q_j} = R_j$$\n",
    "\n",
    "where $L = T - V$ is the Lagrangian and $Q_j = R_j + \\frac{\\partial V}{\\partial q_j}$.\n",
    "\n"
   ]
  },
  {
   "cell_type": "markdown",
   "metadata": {},
   "source": [
    "## Friction\n",
    "\n",
    "Friction forces are not conservative, which can be generally written as:\n",
    "\n",
    "$$F = h(v) \\cdot \\hat{v}$$\n",
    "\n",
    "where $h(v)$ is the friction function (e.g $\\mu \\cdot N$ for static friction) and $\\hat{v}$ is the unit vector of the velocity. \n",
    "\n",
    "Since it is a function of speed it becomes somewhat hard for us to deal with within generalized coordinates. Therefore, we introduce:\n",
    "\n",
    "$$R_j = -\\sum_{i=1}^n \\frac{\\partial h(v)}{\\partial q_i} \\frac{\\partial q_i}{\\partial q_j}$$\n",
    "\n",
    "where $R_j$ is the generalized friction force, and $q_i$ is the generalized coordinate. This relates to a dissipation function:\n",
    "\n",
    "$$R_j = \\frac{\\partial \\mathcal{F}}{\\partial \\dot{q}_j}\\quad \\Rightarrow \\quad \\mathcal{F} = \\sum_{i=1}^n \\int h(v_i) dv_i.$$\n"
   ]
  },
  {
   "cell_type": "markdown",
   "metadata": {},
   "source": []
  }
 ],
 "metadata": {
  "language_info": {
   "name": "python"
  },
  "orig_nbformat": 4
 },
 "nbformat": 4,
 "nbformat_minor": 2
}
