{
 "cells": [
  {
   "cell_type": "markdown",
   "metadata": {},
   "source": [
    "# Simultaneous Diagonalization of T and V"
   ]
  },
  {
   "cell_type": "markdown",
   "metadata": {},
   "source": [
    "We would like to tacke oscillating systems, but in the regime of generalised coordinates around a potential $V = V(q_1, q_2, \\ldots, q_n)$. For this, we'll begin with expanding around a local minima $\\vec q_0$:\n",
    "\n",
    "$$V(q_1, q_2, \\ldots, q_n) = V(\\vec q_0) + \\frac{\\partial V}{\\partial q_i} \\eta_i |_0+ \\frac{1}{2} \\frac{\\partial^2 V}{\\partial q_i \\partial q_j} \\eta_i \\eta_j |_0+ \\ldots$$\n",
    "\n",
    "where $\\eta_i = q_i - q_{0,i}$ and we sum over repeated indices. Since the coordinates are steady in time, we can write the Lagrangian \n",
    "\n",
    "$$\\mathcal L = \\frac{1}{2} (T_{ij} \\eta_i \\eta_j - V_{ij} \\eta_i \\eta_j)$$\n",
    "\n",
    "where $V_{ij} = \\frac{\\partial^2 V}{\\partial q_i \\partial q_j}$.\n",
    "\n",
    "Giving the straight EoMs: $$T_{ij} \\ddot \\eta_j + V_{ij} \\eta_j = 0$$\n",
    "\n",
    "Shamefully, there arises problems related to solving the coupled equations. To solve them, let us propose:\n",
    "\n",
    "$$\\eta_i = a_i \\cdot  e^{-i \\omega t}$$\n",
    "\n",
    "where $\\omega$ is the frequency of oscillation. This gives:\n",
    "\n",
    "$$V_{ij} a_j = \\omega^2 T_{ij} a_j \\quad \\Rightarrow \\quad \\hat V \\vec a = \\omega^2 \\hat T \\vec a$$\n",
    "\n",
    "$$(\\hat V - \\omega^2 \\hat T) \\vec a = 0 \\quad \\Rightarrow \\quad \\det(\\hat V - \\omega^2 \\hat T) = 0$$\n",
    "\n",
    "This is very very similar to an eigenvalue problem (with $\\hat T$ instead of $\\hat I$), giving $n$ solutions. Two cases stand up:\n",
    "\n",
    "### 1. $\\hat T$ is diagonal\n",
    "\n",
    "In this scenario we can write $T_{ij} = m\\delta_{ij}$, then:\n",
    "\n",
    "$$m \\ddot \\eta_i + V_{ij} \\eta_j = 0$$\n",
    "so that the eigenvalue problem becomes:\n",
    "\n",
    " $$\\hat V \\vec a = \\omega^2 m \\vec a$$\n",
    "\n",
    "But notice that since $m$ is just a scalar we can fix the normalization to make straight to compute the eigenvectors:\n",
    "\n",
    "$$\\lambda_{(\\alpha)} = \\vec a^\\dagger \\hat V \\vec a = \\omega^2$$\n",
    "\n",
    "$$\\eta^{(\\alpha)}_i = a^{(\\alpha)}_i \\cdot  e^{-i \\omega_{(\\alpha)} t}$$\n",
    "\n",
    "Those are the normal modes of the system, and they are orthogonal. We can also write the general solution as a linear combination of the normal modes:\n",
    "\n",
    "$$\\eta_i = \\sum_\\alpha c_\\alpha \\eta^{(\\alpha)}_i$$\n",
    "\n",
    "### 2. $\\hat T$ is not diagonal\n",
    "\n",
    "In this case, the new coordinates are not orthogonal, but we can still write the general solution as a linear combination of the normal modes:\n",
    "\n",
    "$$\\eta_i = \\sum_\\alpha c_\\alpha \\eta^{(\\alpha)}_i$$\n"
   ]
  },
  {
   "cell_type": "markdown",
   "metadata": {},
   "source": [
    "## Some demonstrative code:"
   ]
  },
  {
   "cell_type": "code",
   "execution_count": 1,
   "metadata": {},
   "outputs": [
    {
     "name": "stdout",
     "output_type": "stream",
     "text": [
      "Eigenvectors A:\n"
     ]
    },
    {
     "name": "stdout",
     "output_type": "stream",
     "text": [
      "[0.0 0.0 1.0; 0.0 1.0 0.0; 1.0 0.0 0.0]\n",
      "Normal mode frequencies ω:\n"
     ]
    },
    {
     "name": "stdout",
     "output_type": "stream",
     "text": [
      "[1.4142135623730951, 1.5811388300841898, 2.0]\n"
     ]
    }
   ],
   "source": [
    "using LinearAlgebra\n",
    "\n",
    "T = diagm([1.0, 2.0, 3.0])\n",
    "V = diagm([4.0, 5.0, 6.0])\n",
    "\n",
    "Λ, A = eigen(inv(T) * V)\n",
    "\n",
    "ω = sqrt.(Λ)\n",
    "\n",
    "println(\"Eigenvectors A:\")\n",
    "println(A)\n",
    "\n",
    "println(\"Normal mode frequencies ω:\")\n",
    "println(ω)\n"
   ]
  }
 ],
 "metadata": {
  "kernelspec": {
   "display_name": "Julia 1.8.0",
   "language": "julia",
   "name": "julia-1.8"
  },
  "language_info": {
   "file_extension": ".jl",
   "mimetype": "application/julia",
   "name": "julia",
   "version": "1.8.0"
  },
  "orig_nbformat": 4
 },
 "nbformat": 4,
 "nbformat_minor": 2
}
