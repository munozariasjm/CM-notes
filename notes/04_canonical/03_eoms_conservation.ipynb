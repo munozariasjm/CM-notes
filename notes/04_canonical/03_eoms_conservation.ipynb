{
 "cells": [
  {
   "cell_type": "markdown",
   "metadata": {},
   "source": [
    "#  Equations of Motion & Conservation Theorems"
   ]
  },
  {
   "cell_type": "markdown",
   "metadata": {},
   "source": [
    "If we take a function $u$ of $p, q, t$, we can totally differentiate it:\n",
    "\n",
    "$$\\dot u = \\frac{\\partial u}{\\partial q}\\dot q +  \\frac{\\partial u}{\\partial p}\\dot p +  \\frac{\\partial u}{\\partial t}$$\n",
    "\n",
    "Now, lets insert Hamilton's equation inside it to replace the $\\dot q$ and $\\dot p$ we arrive to:\n",
    "\n",
    "$$= \\frac{\\partial u\\partial H}{\\partial q \\partial p} -\\frac{\\partial u\\partial H}{\\partial p\\partial q} +  \\frac{\\partial u}{\\partial t} $$\n",
    "$$ = \\{q, H\\} + \\frac{\\partial q}{\\partial t}$$\n",
    "\n",
    "This easily shows that if we have $\\frac{\\partial q}{\\partial t} = 0$ directly we arrive to:\n",
    "\n",
    "$$\\{u, H\\} = 0 \\quad \\Rightarrow\\quad u \\text{is conseved}$$."
   ]
  },
  {
   "cell_type": "markdown",
   "metadata": {},
   "source": []
  },
  {
   "cell_type": "code",
   "execution_count": null,
   "metadata": {
    "vscode": {
     "languageId": "plaintext"
    }
   },
   "outputs": [],
   "source": []
  }
 ],
 "metadata": {
  "language_info": {
   "name": "python"
  },
  "orig_nbformat": 4
 },
 "nbformat": 4,
 "nbformat_minor": 2
}
