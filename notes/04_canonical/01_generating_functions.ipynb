{
 "cells": [
  {
   "cell_type": "markdown",
   "metadata": {},
   "source": [
    "# Generating Functions for Canonical Transformations"
   ]
  },
  {
   "cell_type": "markdown",
   "metadata": {},
   "source": [
    "In Lagrangian mechanics, there are ways of obatining invariance in Euler Lagrange equations by either using a point transformation, or adding a total derivative to the Lagrangian. In Hamiltonian mechanics, we can obtain invariance in Hamilton's equations by using a canonical transformation. In this notebook, we will explore the canonical transformation and its properties.\n",
    "\n",
    "For the Hamiltonian, we know that we can transform any point in the phase space with a function for momentum and position. This is:\n",
    "\n",
    "$$Q_i = Q_i(q, p, t) \\quad P_i = P_i(q, p, t)$$\n",
    "\n",
    "where $Q_i$ and $P_i$ are the new coordinates and $q$ and $p$ are the old coordinates. They have to (ofcourse) remain soluctions for Hamilton's equations. This means that:\n",
    "\n",
    "$$\\dot q = \\frac{\\partial H}{\\partial p}, \\quad \\dot p = -\\frac{\\partial H}{\\partial q}$$\n",
    "\n",
    "Then, we propose $K$, a new Hamiltonian, such that:\n",
    "\n",
    "$$\\dot Q = \\frac{\\partial K}{\\partial P}, \\quad \\dot P = -\\frac{\\partial K}{\\partial Q}$$\n",
    "\n",
    "Ofcourse they still have to meet Hamilton's principle (in addition to the traditional variables). Therefore:\n",
    "\n",
    "$$\\delta \\int_{t_1}^{t_2} \\left( \\sum_i p_i \\dot q_i - H \\right) dt = 0, \\quad \\delta \\int_{t_1}^{t_2} \\left( \\sum_i P_i \\dot Q_i - K \\right) dt = 0$$\n",
    "\n",
    "This variation only leaves us an option: for relating the two Hamiltonians, we must have:\n",
    "\n",
    "$$\\lambda (p\\dot q - H) = \\sum_i P_i \\dot Q_i - K + \\dot F$$\n",
    "\n",
    "where $\\lambda$ defines if the transformation is canonical or not. $F$ is the **generating function** of the transformation. And there are some cases for the generating function that dictate the type of transformation.\n",
    "\n",
    "### Case 1: $F = F_1(q, Q, t)$\n",
    "\n",
    "This is a generating function of the first kind, allowing us to write:\n",
    "\n",
    "$$p_i \\dot q_i - H = \\sum_i P_i \\dot Q_i - K + \\dot F_1 = \\sum_i P_i \\dot Q_i - K + \\frac{\\partial F_1}{\\partial t} + \\frac{\\partial F_1}{\\partial q_i} \\dot q_i + \\frac{\\partial F_1}{\\partial Q_i} \\dot Q_i$$\n",
    "$$p_i =  \\frac{\\partial F_1}{\\partial q_i}, \\quad P_i = -\\frac{\\partial F_1}{\\partial Q_i}, \\quad K = H - \\frac{\\partial F_1}{\\partial t}$$\n",
    "\n",
    "\n",
    "### Case 2: $F = F_2 - Q_i P_i$\n",
    "\n",
    "This situation is particularly interesting because we cann treat any introduced $P$ as independent to $q$. Corresponding to:\n",
    "\n",
    "$$p = \\frac{\\partial F_2}{\\partial q}; \\quad Q \\frac{\\partial F_2}{\\partial P} \\quad K=H+ \\frac{\\partial F_2}{\\partial qt}$$\n",
    "\n",
    "### Case 3: $F = F_3 + q_ip_i$\n",
    "### Case 4: $F = F_4 + q_ip_i - Q_iP_i$"
   ]
  },
  {
   "cell_type": "code",
   "execution_count": null,
   "metadata": {},
   "outputs": [],
   "source": []
  }
 ],
 "metadata": {
  "language_info": {
   "name": "python"
  },
  "orig_nbformat": 4
 },
 "nbformat": 4,
 "nbformat_minor": 2
}
