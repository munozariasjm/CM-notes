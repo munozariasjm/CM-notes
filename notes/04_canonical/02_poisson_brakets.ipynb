{
 "cells": [
  {
   "cell_type": "markdown",
   "metadata": {},
   "source": [
    "# Poisson Brackets and the Symplectic Condition"
   ]
  },
  {
   "cell_type": "markdown",
   "metadata": {},
   "source": [
    "We will define Poisson brakets between two quantities $u$ and $v$ as:\n",
    "\n",
    "$$\\{u, v\\} = \\sum_i \\left( \n",
    "    \\frac{\\partial u \\partial v}{\\partial q \\partial p} - \\frac{\\partial v \\partial u}{\\partial q \\partial p}\n",
    "\\right)$$\n",
    "\n",
    "which end up satisfying:\n",
    "$$\\{q, q\\}_{qp} =  \\{p, p\\}_{qp} = 0, \\quad \\{q_i, p_j\\}_{qp} = \\delta_{i, j}.$$\n",
    "\n",
    "In fact, the brackets are especially useful for chcking if a transformation is canonical:\n",
    "\n",
    "*A transformation is canonical only if*:\n",
    "\n",
    "$$\\{Q_i, Q_j\\}_{qp} = \\{P_i, P_j\\}_{qp} = 0$$\n",
    "\n",
    "From where two key aspects arise...\n",
    "* Poisson brackets are canonical invariants: $\\{u, v\\}_\\eta = \\{u, v\\}_xi = \\{u, v\\}$\n",
    "* Phase space volume elements are preserved by canonical transformations.\n"
   ]
  }
 ],
 "metadata": {
  "language_info": {
   "name": "python"
  },
  "orig_nbformat": 4
 },
 "nbformat": 4,
 "nbformat_minor": 2
}
