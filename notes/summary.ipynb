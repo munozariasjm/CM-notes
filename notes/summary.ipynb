{
 "cells": [
  {
   "cell_type": "markdown",
   "metadata": {},
   "source": [
    "<center>\n",
    "<h1>Classical Mechanics Cheat Sheet</h1>\n",
    "</center>"
   ]
  },
  {
   "cell_type": "markdown",
   "metadata": {},
   "source": [
    "# **Newtonian Mechanics**\n"
   ]
  },
  {
   "cell_type": "markdown",
   "metadata": {},
   "source": [
    "\n",
    "I guess we all know Newton's laws, but let's write them down anyway:\n",
    "\n",
    "1. An object at rest stays at rest and an object in motion stays in motion with the same speed and in the same direction unless acted upon by an unbalanced force.\n",
    "2. The acceleration of an object as produced by a net force is directly proportional to the magnitude of the net force, in the same direction as the net force, and inversely proportional to the mass of the object:\n",
    "$$F = \\frac{dp}{dt} \\Rightarrow \\text{If } \\dot m = 0 \\Rightarrow F = ma$$\n",
    "3. For every action, there is an equal and opposite reaction.\n",
    "\n",
    "### Gravitational Force\n",
    "\n",
    "$$F = -G \\frac{m_1 m_2}{r^2} \\hat{r} \\quad \\text{Force law}$$\n",
    "$$\\mu = \\frac{m_1 m_2}{m_1 + m_2} \\quad \\text{Reduced mass}$$\n",
    "\n",
    "The reduced mass is useful when we have two bodies with different masses, but we want to treat them as a single body with a mass equal to the reduced mass and a position equal to the center of mass.\n",
    "\n",
    "$$\\vec{r}_{CM} = \\frac{m_1 \\vec{r}_1 + m_2 \\vec{r}_2}{m_1 + m_2}$$\n",
    "\n",
    "### Angular Momentum - Torque\n",
    "\n",
    "$$\\vec{L} = \\vec{r} \\times \\vec{p} = m \\vec{r} \\times  \\vec{\\dot r}$$\n",
    "\n",
    "If the body is rotating around a fixed axis, then the angular momentum is:\n",
    "\n",
    "$$\\vec{L} = I \\vec{\\omega}$$\n",
    "\n",
    "$$\\vec{\\tau} = \\frac{d\\vec{L}}{dt}$$\n",
    "Kinetic energy of a rotating body:\n",
    "$$T = \\frac{1}{2} I \\omega^2 = \\frac{L^2}{2I}$$\n",
    "\n"
   ]
  },
  {
   "cell_type": "markdown",
   "metadata": {},
   "source": [
    "# **Lagrangian and Hamiltonian Mechanics**\n"
   ]
  },
  {
   "cell_type": "markdown",
   "metadata": {},
   "source": [
    "\n",
    "### Lagrangian Formulation\n",
    "\n",
    "$$\\mathcal{L} = T - V$$\n",
    "\n",
    "Euler-Lagrange equations (bare):\n",
    "For each generalized coordinate $q_i$:\n",
    "\n",
    "$$\\frac{d}{dt} \\left( \\frac{\\partial \\mathcal{L}}{\\partial \\dot q_i} \\right) - \\frac{\\partial \\mathcal{L}}{\\partial q_i} = 0 $$\n",
    "\n",
    "**Including friction**:\n",
    "\n",
    "Rayleigh’s dissipation function\n",
    "\n",
    "$$\\mathcal{R} = \\frac{1}{n+1} \\sum_{i=1}^n \\gamma_i \\dot q_i^{n+1} \\underbrace{\\Rightarrow}_{\\text{Normally }n=1} \\mathcal{R} = \\frac{1}{2} \\overbrace{\\gamma}^{\\text{Coefficient}} \\dot q^2$$\n",
    "\n",
    "The modified Euler-Lagrange equations are:\n",
    "\n",
    "$$\\frac{d}{dt} \\left( \\frac{\\partial \\mathcal{L}}{\\partial \\dot q_i} \\right) - \\frac{\\partial \\mathcal{L}}{\\partial q_i} = \\frac{\\partial \\mathcal{R}}{\\partial \\dot q_i}$$\n",
    "\n",
    "**Including constraints**:\n",
    "\n",
    "* Holonomic constraints: $f(q_1, q_2, \\dots, q_n, t) = 0$\n",
    "\n",
    "In this case, we can use the generalized coordinates to describe the system replacing the constraints in order to reduce the DoF of the system.\n",
    "\n",
    "* Non-holonomic constraints: $f = f(q_1, q_2, \\dots, q_n, \\dot q_1, \\dot q_2, \\dots, \\dot q_n, t) = 0$\n",
    "\n",
    "For these cases we will have to use the Lagrange multipliers inside the EoMs, this is:\n",
    "\n",
    "$$\\frac{d}{dt} \\left( \\frac{\\partial \\mathcal{L}}{\\partial \\dot q_i} \\right) - \\frac{\\partial \\mathcal{L}}{\\partial q_i} = \\frac{\\partial \\mathcal{R}}{\\partial \\dot q_i} + \\sum_{j=1}^m \\lambda_j \\frac{\\partial f}{\\partial q_j}$$\n",
    "\n",
    "Note that $j$ sums over the number of constraints."
   ]
  },
  {
   "cell_type": "markdown",
   "metadata": {},
   "source": [
    "### Hamiltonian Formulation\n",
    "\n",
    "Legendre transformation:\n",
    "\n",
    "$$\\mathcal{H} = \\left ( \\sum_{i=1}^n \\dot q_i \\frac{\\partial \\mathcal{L}}{\\partial \\dot q_i}\\right) - \\mathcal{L}$$\n",
    "\n",
    "Hamilton's equations:\n",
    "\n",
    "$$\\dot q_i = \\frac{\\partial \\mathcal{H}}{\\partial p_i} \\quad \\text{and} \\quad \\dot p_i = - \\frac{\\partial \\mathcal{H}}{\\partial q_i}$$\n",
    "\n",
    "### Canonical Transformations\n",
    "\n",
    "A canonical transformation is a transformation from one set of generalized coordinates to another set of generalized coordinates:\n",
    "\n",
    "$$q_i, p_i \\rightarrow Q_i, P_i$$\n",
    "\n",
    "that preserves the form of Hamilton's equations. Canonical transformations conserve the structure of Poisson brackets.\n",
    "\n",
    "**Poison brackets**:\n",
    "\n",
    "$$\\{f, g\\}_{(q, p)} = \\sum_{i=1}^n \\left( \\frac{\\partial f}{\\partial q_i} \\frac{\\partial g}{\\partial p_i} - \\frac{\\partial f}{\\partial p_i} \\frac{\\partial g}{\\partial q_i} \\right)$$\n",
    "\n",
    "Canonical transformations follow:\n",
    "\n",
    "$$\\{q_i, p_i\\}_{(q, p)} = 1 \\quad \\text{and} \\quad \\{Q_i, P_i\\}_{(Q, P)} = 1$$"
   ]
  }
 ],
 "metadata": {
  "language_info": {
   "name": "python"
  },
  "orig_nbformat": 4
 },
 "nbformat": 4,
 "nbformat_minor": 2
}
